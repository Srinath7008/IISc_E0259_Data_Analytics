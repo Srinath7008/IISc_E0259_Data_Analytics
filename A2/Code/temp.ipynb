{
 "cells": [
  {
   "cell_type": "code",
   "execution_count": 1,
   "metadata": {},
   "outputs": [],
   "source": [
    "import numpy as np\n",
    "import networkx as nx\n",
    "import matplotlib.pyplot as plt\n",
    "from scipy.linalg import eigh\n",
    "import seaborn as sns\n",
    "import pandas as pd"
   ]
  },
  {
   "cell_type": "code",
   "execution_count": 5,
   "metadata": {},
   "outputs": [
    {
     "data": {
      "text/plain": [
       "array([[0.90845218, 0.33165756, 0.66435645, 0.87290508, 0.99317896],\n",
       "       [0.93943423, 0.66943501, 0.09880345, 0.09829634, 0.38064387],\n",
       "       [0.2360133 , 0.09992315, 0.89208139, 0.24320357, 0.96703297],\n",
       "       [0.06544741, 0.00621807, 0.73178765, 0.90937769, 0.34995617],\n",
       "       [0.84230073, 0.49773189, 0.88960584, 0.13611109, 0.4265795 ]])"
      ]
     },
     "execution_count": 5,
     "metadata": {},
     "output_type": "execute_result"
    }
   ],
   "source": [
    "M = np.random.random((5,5))\n",
    "M"
   ]
  },
  {
   "cell_type": "code",
   "execution_count": 6,
   "metadata": {},
   "outputs": [
    {
     "data": {
      "text/plain": [
       "array([0.09992315, 0.89208139, 0.24320357])"
      ]
     },
     "execution_count": 6,
     "metadata": {},
     "output_type": "execute_result"
    }
   ],
   "source": [
    "M[2,[1,2,3]]"
   ]
  },
  {
   "cell_type": "markdown",
   "metadata": {},
   "source": []
  },
  {
   "cell_type": "code",
   "execution_count": 2,
   "metadata": {},
   "outputs": [],
   "source": [
    "def import_facebook_data(path):\n",
    "    # Import text file with entries as int data type\n",
    "    data = np.loadtxt(path).astype(int)\n",
    "    return data"
   ]
  },
  {
   "cell_type": "code",
   "execution_count": 117,
   "metadata": {},
   "outputs": [],
   "source": [
    "# def import_bitcoin_data(path):\n",
    "#     data = np. genfromtxt(path, delimiter=',')\n",
    "#     data = data[:,[0,1]].astype(int)\n",
    "\n",
    "#     # Sort each edge pair to ensure the order doesn't matter\n",
    "#     data = np.sort(data, axis=1)\n",
    "\n",
    "#     # Get unique rows (unique sorted edge pairs)\n",
    "#     data = np.unique(data, axis=0)\n",
    "#     return data"
   ]
  },
  {
   "cell_type": "code",
   "execution_count": 2,
   "metadata": {},
   "outputs": [],
   "source": [
    "def import_bitcoin_data(dir):\n",
    "    df = pd.read_csv(dir, header=None)\n",
    "    edge_list = df.iloc[:, :2].values.tolist()\n",
    "    unique_edges = set()\n",
    "    unique_edges_list = []\n",
    "    for row in edge_list:\n",
    "        row = tuple(sorted(row))\n",
    "        if row not in unique_edges:\n",
    "            unique_edges.add(row)  \n",
    "            unique_edges_list.append(row) \n",
    "    nodes = np.unique(unique_edges_list).reshape(-1)\n",
    "    nodeDict = {element: index for index, element in enumerate(nodes)}\n",
    "    edge_array = np.array(unique_edges_list)\n",
    "    for i in range(len(unique_edges_list)):\n",
    "        for j in range(2):\n",
    "            edge_array[i][j] = nodeDict[edge_array[i][j]]\n",
    "    return edge_array"
   ]
  },
  {
   "cell_type": "code",
   "execution_count": 3,
   "metadata": {},
   "outputs": [],
   "source": [
    "nodes_connectivity_list_btc = import_bitcoin_data(\"../data/soc-sign-bitcoinotc.csv\")"
   ]
  },
  {
   "cell_type": "code",
   "execution_count": 4,
   "metadata": {},
   "outputs": [
    {
     "data": {
      "text/plain": [
       "21492"
      ]
     },
     "execution_count": 4,
     "metadata": {},
     "output_type": "execute_result"
    }
   ],
   "source": [
    "len(nodes_connectivity_list_btc)"
   ]
  },
  {
   "cell_type": "code",
   "execution_count": 12,
   "metadata": {},
   "outputs": [
    {
     "data": {
      "text/plain": [
       "array([[   6,    2],\n",
       "       [   6,    5],\n",
       "       [   1,   15],\n",
       "       ...,\n",
       "       [2731, 4897],\n",
       "       [  13, 1128],\n",
       "       [1128,   13]])"
      ]
     },
     "execution_count": 12,
     "metadata": {},
     "output_type": "execute_result"
    }
   ],
   "source": [
    "nodes_connectivity_list_btc"
   ]
  },
  {
   "cell_type": "code",
   "execution_count": 13,
   "metadata": {},
   "outputs": [],
   "source": [
    "nodes_connectivity_list_fb = import_facebook_data(\"../data/facebook_combined.txt\")"
   ]
  },
  {
   "cell_type": "code",
   "execution_count": 60,
   "metadata": {},
   "outputs": [
    {
     "data": {
      "text/plain": [
       "4038"
      ]
     },
     "execution_count": 60,
     "metadata": {},
     "output_type": "execute_result"
    }
   ],
   "source": [
    "np.max(nodes_connectivity_list_fb)"
   ]
  },
  {
   "cell_type": "code",
   "execution_count": 8,
   "metadata": {},
   "outputs": [],
   "source": [
    "def spectralDecomp_OneIter1(edges):\n",
    "    mode = 'ncut'\n",
    "    nodes = np.unique(edges).reshape(-1)\n",
    "    nodeDict = {element: index for index, element in enumerate(nodes)}\n",
    "    size = len(nodes)\n",
    "    Adjacency = np.zeros((size, size)).astype(int)\n",
    "    for row in edges:\n",
    "        Adjacency[nodeDict[row[0]], nodeDict[row[1]]] = 1\n",
    "        Adjacency[nodeDict[row[1]], nodeDict[row[0]]] = 1\n",
    "    Degree = np.diag(np.sum(Adjacency, axis=1))\n",
    "    Laplacian = Degree - Adjacency\n",
    "    if mode == 'ncut':  \n",
    "        _, fiedler_vector = eigh(Laplacian, Degree, eigvals_only=False, subset_by_index=[1, 1])\n",
    "    else:\n",
    "        _, fiedler_vector = eigh(Laplacian, eigvals_only=False, subset_by_index=[1, 1])\n",
    "    sign_vector = np.sign(fiedler_vector).astype(int)\n",
    "    Community1Head = nodes[np.min(np.where(sign_vector == -1)[0])]\n",
    "    Community2Head = nodes[np.min(np.where(sign_vector == 1)[0])]\n",
    "    graph_partition = np.zeros((size, 2)).astype(int)\n",
    "    Column2 = np.where(sign_vector>0, Community2Head, Community1Head)\n",
    "    graph_partition = np.column_stack((nodes, Column2))\n",
    "    graph = np.array(graph_partition).astype(int)\n",
    "    return fiedler_vector, Adjacency, graph"
   ]
  },
  {
   "cell_type": "code",
   "execution_count": 5,
   "metadata": {},
   "outputs": [],
   "source": [
    "def spectralDecomp_OneIter(edges):\n",
    "    mode = 'ncut'\n",
    "    nodes = np.unique(edges).reshape(-1)\n",
    "    nodeDict = {element: index for index, element in enumerate(nodes)}\n",
    "    size = len(nodes)\n",
    "    print('nodes=', size )\n",
    "    Adjacency = np.zeros((size, size)).astype(int)\n",
    "    for row in edges:\n",
    "        Adjacency[nodeDict[row[0]], nodeDict[row[1]]] = 1\n",
    "        Adjacency[nodeDict[row[1]], nodeDict[row[0]]] = 1\n",
    "    Degree = np.diag(np.sum(Adjacency, axis=1))\n",
    "    Laplacian = Degree - Adjacency\n",
    "    if mode == 'ncut':  \n",
    "        _, fiedler_vector = eigh(Laplacian, Degree, eigvals_only=False, subset_by_index=[1, 1])\n",
    "    else:\n",
    "        _, fiedler_vector = eigh(Laplacian, eigvals_only=False, subset_by_index=[1, 1])\n",
    "    unique = np.unique(fiedler_vector >= 0)\n",
    "    if len(unique) != 2:\n",
    "        return None, None, None\n",
    "    Community1Head = nodes[np.min(np.where(fiedler_vector < 0)[0])]\n",
    "    Community2Head = nodes[np.min(np.where(fiedler_vector >= 0)[0])]\n",
    "    graph_partition = np.zeros((size, 2)).astype(int)\n",
    "    Column2 = np.where(fiedler_vector>0, Community2Head, Community1Head)\n",
    "    graph_partition = np.column_stack((nodes, Column2))\n",
    "    graph = np.array(graph_partition).astype(int)\n",
    "    return fiedler_vector, Adjacency, graph"
   ]
  },
  {
   "cell_type": "code",
   "execution_count": 14,
   "metadata": {},
   "outputs": [],
   "source": [
    "def compute_metrics(G,partition1,partition2):\n",
    "    # Calculate cut\n",
    "    cut = nx.cut_size(G, partition1, partition2)\n",
    "\n",
    "    # Computing Ratio Cut\n",
    "    R1 = cut/len(partition1) if len(partition1) > 0 else 0\n",
    "    R2 = cut/len(partition2) if len(partition2) > 0 else 0\n",
    "    Ratio_cut = R1 + R2\n",
    "\n",
    "    # Calculate degree of partition1 and partition2\n",
    "    degree_partition1 = sum(G.degree[node] for node in partition1)\n",
    "    degree_partition2 = sum(G.degree[node] for node in partition2)\n",
    "\n",
    "    # Computing Normalized Cut\n",
    "    N1 = cut/degree_partition1 if degree_partition1 > 0 else 0\n",
    "    N2 = cut/degree_partition2 if degree_partition2 > 0 else 0\n",
    "    Normalized_cut = N1 + N2\n",
    "\n",
    "    # Compute Conductance\n",
    "    Conductance = cut/min(degree_partition1,degree_partition1) if cut > 0 else 0\n",
    "\n",
    "    # Modularity\n",
    "    Modularity = nx.community.modularity(G,[partition1,partition2])\n",
    "\n",
    "    print(\"Ratio Cut: \", Ratio_cut)\n",
    "    print(\"Normalized Cut: \", Normalized_cut)\n",
    "    print(\"Conductance: \", Conductance)\n",
    "    print(\"Modulaity: \", Modularity)\n",
    "    "
   ]
  },
  {
   "cell_type": "code",
   "execution_count": 15,
   "metadata": {},
   "outputs": [],
   "source": [
    "def plot_fiedler_vector(fiedler_vector,title):\n",
    "    plt.figure(figsize=(12, 8))\n",
    "    plt.plot(np.arange(len(fiedler_vector)),np.sort(fiedler_vector, axis = 0).reshape(-1))\n",
    "    plt.title(title)\n",
    "    plt.show()"
   ]
  },
  {
   "cell_type": "code",
   "execution_count": 26,
   "metadata": {},
   "outputs": [],
   "source": [
    "def plot_adj_mat(A, fielder_vec, title):\n",
    "    # Create a figure with two subplots\n",
    "    fig, axes = plt.subplots(1, 2, figsize=(12, 6))\n",
    "\n",
    "    # Subplot 1: Original Adjacency Matrix\n",
    "    sns.heatmap(A,ax=axes[0], cbar=False,xticklabels=False, yticklabels=False)\n",
    "    axes[0].set_title(\"Original Adjacency Matrix \" + title)\n",
    "\n",
    "    # Subplot 2: Adjacency Matrix Sorted by Fiedler Vector\n",
    "    sorted_indices = np.argsort(fielder_vec, axis=0).reshape(-1)\n",
    "    sorted_adj_mat_fb = A[sorted_indices][:, sorted_indices]\n",
    "    sns.heatmap(sorted_adj_mat_fb, ax=axes[1], cbar=False,xticklabels=False, yticklabels=False)\n",
    "    axes[1].set_title(\"Adjacency Matrix Sorted by Fiedler Vector \" + title)\n",
    "\n",
    "    # Adjust spacing between subplots\n",
    "    plt.tight_layout()\n",
    "\n",
    "    # Show the plot\n",
    "    plt.show()"
   ]
  },
  {
   "cell_type": "code",
   "execution_count": null,
   "metadata": {},
   "outputs": [],
   "source": [
    "def plot_graph()"
   ]
  },
  {
   "cell_type": "code",
   "execution_count": 7,
   "metadata": {},
   "outputs": [],
   "source": []
  },
  {
   "cell_type": "code",
   "execution_count": 111,
   "metadata": {},
   "outputs": [],
   "source": [
    "fielder_vec_fb, adj_mat_fb, graph_partition_fb = spectralDecomp_OneIter1(nodes_connectivity_list_fb)"
   ]
  },
  {
   "cell_type": "code",
   "execution_count": 18,
   "metadata": {},
   "outputs": [
    {
     "name": "stdout",
     "output_type": "stream",
     "text": [
      "Ratio Cut:  26.287163857173\n",
      "Normalized Cut:  0.5775206297312732\n",
      "Conductance:  0.32898791182744724\n",
      "Modulaity:  0.20714001722261371\n"
     ]
    }
   ],
   "source": [
    "fielder_vec_fb2, adj_mat_fb2, graph_partition_fb2 = spectralDecomp_OneIter(nodes_connectivity_list_fb,\"Ncut\")"
   ]
  },
  {
   "cell_type": "code",
   "execution_count": 19,
   "metadata": {},
   "outputs": [
    {
     "data": {
      "image/png": "[encoded data removed]",
      "text/plain": [
       "<Figure size 1200x800 with 1 Axes>"
      ]
     },
     "metadata": {},
     "output_type": "display_data"
    }
   ],
   "source": [
    "plot_fiedler_vector(fielder_vec_fb2,\"Sorted Fiedler Vector(Min Cut): Facebook Data\")"
   ]
  },
  {
   "cell_type": "code",
   "execution_count": 27,
   "metadata": {},
   "outputs": [
    {
     "data": {
      "image/png": "[encoded data removed]",
      "text/plain": [
       "<Figure size 1200x600 with 2 Axes>"
      ]
     },
     "metadata": {},
     "output_type": "display_data"
    }
   ],
   "source": [
    "plot_adj_mat(adj_mat_fb2,fielder_vec_fb2,\"(MinCut): Facebook Data\")"
   ]
  },
  {
   "cell_type": "code",
   "execution_count": 14,
   "metadata": {},
   "outputs": [],
   "source": [
    "fielder_vec_btc, adj_mat_btc, graph_partition_btc = spectralDecomp_OneIter1(nodes_connectivity_list_btc)"
   ]
  },
  {
   "cell_type": "code",
   "execution_count": 15,
   "metadata": {},
   "outputs": [
    {
     "name": "stdout",
     "output_type": "stream",
     "text": [
      "nodes= 5881\n"
     ]
    }
   ],
   "source": [
    "fielder_vec_btc2, adj_mat_btc2, graph_partition_btc2 = spectralDecomp_OneIter(nodes_connectivity_list_btc)"
   ]
  },
  {
   "cell_type": "code",
   "execution_count": 16,
   "metadata": {},
   "outputs": [
    {
     "data": {
      "text/plain": [
       "False"
      ]
     },
     "execution_count": 16,
     "metadata": {},
     "output_type": "execute_result"
    }
   ],
   "source": [
    "np.all(fielder_vec_btc == fielder_vec_btc2)"
   ]
  },
  {
   "cell_type": "code",
   "execution_count": 17,
   "metadata": {},
   "outputs": [
    {
     "data": {
      "text/plain": [
       "array([[ 0.00000000e+00],\n",
       "       [ 6.74248513e-32],\n",
       "       [ 5.48108494e-32],\n",
       "       ...,\n",
       "       [ 3.15513263e-32],\n",
       "       [ 4.60794833e-18],\n",
       "       [-4.19997954e-17]])"
      ]
     },
     "execution_count": 17,
     "metadata": {},
     "output_type": "execute_result"
    }
   ],
   "source": [
    "fielder_vec_btc"
   ]
  },
  {
   "cell_type": "code",
   "execution_count": 18,
   "metadata": {},
   "outputs": [
    {
     "data": {
      "text/plain": [
       "array([[-6.9749038e-07],\n",
       "       [-6.9749038e-07],\n",
       "       [-6.9749038e-07],\n",
       "       ...,\n",
       "       [-6.9749038e-07],\n",
       "       [-6.9749038e-07],\n",
       "       [-6.9749038e-07]])"
      ]
     },
     "execution_count": 18,
     "metadata": {},
     "output_type": "execute_result"
    }
   ],
   "source": [
    "fielder_vec_btc2"
   ]
  },
  {
   "cell_type": "code",
   "execution_count": 12,
   "metadata": {},
   "outputs": [
    {
     "data": {
      "text/plain": [
       "(array([1, 4]), array([3733, 2148], dtype=int64))"
      ]
     },
     "execution_count": 12,
     "metadata": {},
     "output_type": "execute_result"
    }
   ],
   "source": [
    "np.unique(graph_partition_btc[:,1],return_counts=True)"
   ]
  },
  {
   "cell_type": "code",
   "execution_count": 38,
   "metadata": {},
   "outputs": [
    {
     "data": {
      "text/plain": [
       "array([570,   0])"
      ]
     },
     "execution_count": 38,
     "metadata": {},
     "output_type": "execute_result"
    }
   ],
   "source": [
    "graph_partition_fb2[570]"
   ]
  },
  {
   "cell_type": "code",
   "execution_count": 7,
   "metadata": {},
   "outputs": [
    {
     "data": {
      "text/plain": [
       "(array([0]), array([5881], dtype=int64))"
      ]
     },
     "execution_count": 7,
     "metadata": {},
     "output_type": "execute_result"
    }
   ],
   "source": [
    "np.unique(graph_partition_btc2[:,1],return_counts=True)"
   ]
  },
  {
   "cell_type": "code",
   "execution_count": 49,
   "metadata": {},
   "outputs": [
    {
     "data": {
      "text/plain": [
       "2"
      ]
     },
     "execution_count": 49,
     "metadata": {},
     "output_type": "execute_result"
    }
   ],
   "source": [
    "len({1,2})"
   ]
  },
  {
   "cell_type": "code",
   "execution_count": 73,
   "metadata": {},
   "outputs": [
    {
     "data": {
      "image/png": "[encoded data removed]",
      "text/plain": [
       "<Figure size 640x480 with 1 Axes>"
      ]
     },
     "metadata": {},
     "output_type": "display_data"
    }
   ],
   "source": [
    "draw_graph(graph_partition_btc,nodes_connectivity_list_btc)"
   ]
  },
  {
   "cell_type": "code",
   "execution_count": 33,
   "metadata": {},
   "outputs": [],
   "source": [
    "def draw_graph(graph_partition,edges):\n",
    "    # Create a NetworkX graph\n",
    "    G = nx.Graph()\n",
    "    # Add edges between nodes (replace with your actual edge data)\n",
    "    G.add_edges_from(edges)\n",
    "\n",
    "    community_colors = graph_partition[:,1]\n",
    "    # Draw the graph with node colors based on the community\n",
    "    pos = nx.spring_layout(G)  # You can choose different layouts\n",
    "    nx.draw(G, pos, with_labels=False,cmap = 'virdis')\n",
    "    plt.show()"
   ]
  },
  {
   "cell_type": "code",
   "execution_count": null,
   "metadata": {},
   "outputs": [],
   "source": []
  },
  {
   "cell_type": "code",
   "execution_count": 34,
   "metadata": {},
   "outputs": [
    {
     "name": "stderr",
     "output_type": "stream",
     "text": [
      "c:\\Users\\srina\\anaconda3\\envs\\DataAnalytics\\lib\\site-packages\\networkx\\drawing\\nx_pylab.py:433: UserWarning: No data for colormapping provided via 'c'. Parameters 'cmap' will be ignored\n",
      "  node_collection = ax.scatter(\n"
     ]
    },
    {
     "data": {
      "image/png": "[encoded data removed]",
      "text/plain": [
       "<Figure size 640x480 with 1 Axes>"
      ]
     },
     "metadata": {},
     "output_type": "display_data"
    }
   ],
   "source": [
    "draw_graph(nodes_connectivity_list_fb,graph_partition_fb2)"
   ]
  },
  {
   "cell_type": "code",
   "execution_count": 53,
   "metadata": {},
   "outputs": [
    {
     "data": {
      "image/png": "[encoded data removed]",
      "text/plain": [
       "<Figure size 640x480 with 1 Axes>"
      ]
     },
     "metadata": {},
     "output_type": "display_data"
    }
   ],
   "source": [
    "draw_graph(graph_partition_fb2,nodes_connectivity_list_fb)"
   ]
  },
  {
   "cell_type": "code",
   "execution_count": null,
   "metadata": {},
   "outputs": [],
   "source": []
  },
  {
   "cell_type": "code",
   "execution_count": 8,
   "metadata": {},
   "outputs": [],
   "source": [
    "# def spectralDecomp_OneIter(edges):\n",
    "\n",
    "#     # Create a NetworkX graph from the list of edges\n",
    "#     G = nx.Graph()  # Create an undirected graph\n",
    "#     G.add_edges_from(edges)\n",
    "\n",
    "#     # Generate the adjacency matrix from the graph\n",
    "#     adjacency_matrix = nx.to_numpy_array(G, dtype=int)\n",
    "\n",
    "#     # Calculate the Laplacian matrix\n",
    "#     laplacian_matrix = nx.laplacian_matrix(G).toarray().astype(float)\n",
    "\n",
    "#     #D = np.diag(adjacency_matrix.sum(axis = 1)).astype(float)\n",
    "\n",
    "#     # Calculate the eigenvalues and eigenvectors of the Laplacian matrix\n",
    "#     # eigenvalues, eigenvectors = np.linalg.eigh(laplacian_matrix)\n",
    "#     eigenvalues, eigenvectors = eigsh(laplacian_matrix,k = 2,M = D,which = \"SM\")\n",
    "\n",
    "#     # Sort the eigenvalues and corresponding eigenvectors\n",
    "#     sorted_indices = np.argsort(eigenvalues)\n",
    "#     eigenvalues = eigenvalues[sorted_indices]\n",
    "#     eigenvectors = eigenvectors[:, sorted_indices]\n",
    "\n",
    "#     # The second smallest eigenvalue corresponds to the Fiedler vector\n",
    "#     fiedler_vector = eigenvectors[:, 1]\n",
    "\n",
    "#     # Determine the graph partition based on the sign of the Fiedler vector elements\n",
    "#     positive_nodes = [node for node, value in enumerate(fiedler_vector) if value >= 0]\n",
    "#     negative_nodes = [node for node, value in enumerate(fiedler_vector) if value < 0]\n",
    "\n",
    "#     if len(positive_nodes) > 0:\n",
    "#         community_id = min(positive_nodes)\n",
    "#         graph_partition_pos = [(node, community_id) for node in positive_nodes]\n",
    "#     if len(negative_nodes) > 0:\n",
    "#         community_id = min(negative_nodes)\n",
    "#         graph_partition_neg = [(node, community_id) for node in negative_nodes]\n",
    "#     graph_partition = np.array(graph_partition_pos + graph_partition_neg)\n",
    "\n",
    "#     return fiedler_vector, adjacency_matrix, graph_partition "
   ]
  },
  {
   "cell_type": "code",
   "execution_count": 9,
   "metadata": {},
   "outputs": [],
   "source": [
    "fielder_vec_fb, adj_mat_fb, graph_partition_fb = spectralDecomp_OneIter(nodes_connectivity_list_fb)\n"
   ]
  },
  {
   "cell_type": "code",
   "execution_count": 52,
   "metadata": {},
   "outputs": [],
   "source": [
    "def generate_colors(community_ids):\n",
    "    color_mapping = {}\n",
    "    for community_id, color in zip(set(community_ids),plt.get_cmap('viridis',len(set(community_ids)))(np.arange(len(set(community_ids))))):\n",
    "        color_mapping[community_id]=color\n",
    "    community_colors = [color_mapping[i] for i in community_ids]\n",
    "    return community_colors"
   ]
  },
  {
   "cell_type": "code",
   "execution_count": 56,
   "metadata": {},
   "outputs": [],
   "source": [
    "def draw_graph(graph_partition,edges,title):\n",
    "    G = nx.Graph()\n",
    "    G.add_edges_from(edges)\n",
    "    community_colors = generate_colors(graph_partition[:, 1])\n",
    "    pos = nx.spring_layout(G)\n",
    "    nx.draw(G, pos, node_color=community_colors, with_labels=False)\n",
    "    plt.title(\"Graph \" + title)\n",
    "    plt.show()"
   ]
  },
  {
   "cell_type": "code",
   "execution_count": 57,
   "metadata": {},
   "outputs": [
    {
     "data": {
      "image/png": "[encoded data removed]",
      "text/plain": [
       "<Figure size 640x480 with 1 Axes>"
      ]
     },
     "metadata": {},
     "output_type": "display_data"
    }
   ],
   "source": [
    "draw_graph(graph_partition_fb2,nodes_connectivity_list_fb,'(Mincut): Facebook')"
   ]
  },
  {
   "cell_type": "code",
   "execution_count": 64,
   "metadata": {},
   "outputs": [
    {
     "data": {
      "text/plain": [
       "(array([  0, 571]), array([3285,  754], dtype=int64))"
      ]
     },
     "execution_count": 64,
     "metadata": {},
     "output_type": "execute_result"
    }
   ],
   "source": [
    "np.unique(graph_partition_fb[:,1],return_counts=True)"
   ]
  },
  {
   "cell_type": "code",
   "execution_count": 10,
   "metadata": {},
   "outputs": [
    {
     "data": {
      "text/plain": [
       "array([[ 571,  571],\n",
       "       [1821,  571],\n",
       "       [1822,  571],\n",
       "       ...,\n",
       "       [4036,    0],\n",
       "       [4037,    0],\n",
       "       [4038,    0]])"
      ]
     },
     "execution_count": 10,
     "metadata": {},
     "output_type": "execute_result"
    }
   ],
   "source": []
  },
  {
   "cell_type": "code",
   "execution_count": 11,
   "metadata": {},
   "outputs": [
    {
     "data": {
      "text/plain": [
       "(array([  0, 571]), array([3285,  754], dtype=int64))"
      ]
     },
     "execution_count": 11,
     "metadata": {},
     "output_type": "execute_result"
    }
   ],
   "source": [
    "np.unique(graph_partition_fb[:,1], return_counts=True)"
   ]
  },
  {
   "cell_type": "code",
   "execution_count": null,
   "metadata": {},
   "outputs": [],
   "source": [
    "def spectralDecomposition(edges):\n",
    "\n",
    "    # Create a NetworkX graph from the list of edges\n",
    "    Graph = nx.Graph()  # Create an undirected graph\n",
    "    Graph.add_edges_from(edges)\n",
    "    final_partition = np.zeros((len(Graph.nodes),2))\n",
    "    final_partition[:,0] = np.arange(len(Graph.nodes))\n",
    "    threshold = 0.7\n",
    "\n",
    "    def recursiveSpectralDecomposition(G):\n",
    "        fiedler_vector, _, graph_partition = spectralDecomp_OneIter(G.edges())\n",
    "        # Create two subgraphs based on the sign of Fiedler vector values\n",
    "        positive_nodes = [node for node, value in enumerate(fiedler_vector) if value >= 0]\n",
    "        negative_nodes = [node for node, value in enumerate(fiedler_vector) if value < 0]\n",
    "        if max(len(positive_nodes),len(negative_nodes))/(len(positive_nodes) + len(negative_nodes)) > threshold:\n",
    "            return\n",
    "        \n"
   ]
  },
  {
   "cell_type": "code",
   "execution_count": 19,
   "metadata": {},
   "outputs": [],
   "source": [
    "def recursiveSpectralDecomposition(edges, min_size=100):\n",
    "    communities = []\n",
    "\n",
    "    # Apply spectral decomposition for one iteration\n",
    "    fiedler_vector, _, graph_partition = spectralDecomp_OneIter(edges)\n",
    "    \n",
    "    # Create two subgraphs based on the sign of Fiedler vector values\n",
    "    positive_nodes = [node for node, value in enumerate(fiedler_vector) if value >= 0]\n",
    "    negative_nodes = [node for node, value in enumerate(fiedler_vector) if value < 0]\n",
    "    \n",
    "    subgraph_positive = [(u, v) for u, v in edges if u in positive_nodes and v in positive_nodes]\n",
    "    subgraph_negative = [(u, v) for u, v in edges if u in negative_nodes and v in negative_nodes]\n",
    "    \n",
    "    # Recursive calls on subgraphs\n",
    "    if len(subgraph_positive) > min_size:\n",
    "        communities.extend(recursiveSpectralDecomposition(subgraph_positive, min_size))\n",
    "    else:\n",
    "        communities.append([node for node in positive_nodes])\n",
    "    \n",
    "    # Check if subgraph_negative is not empty before processing\n",
    "    if subgraph_negative:\n",
    "        if len(subgraph_negative) > min_size:\n",
    "            communities.extend(recursiveSpectralDecomposition(subgraph_negative, min_size))\n",
    "        else:\n",
    "            communities.append([node for node in negative_nodes])\n",
    "    \n",
    "    # Assign community IDs following the convention\n",
    "    unique_communities = {}\n",
    "    next_community_id = 0\n",
    "    final_graph_partition = []\n",
    "    for community in communities:\n",
    "        lowest_node_id = min(community)\n",
    "        if lowest_node_id not in unique_communities:\n",
    "            unique_communities[lowest_node_id] = next_community_id\n",
    "            next_community_id += 1\n",
    "        community_id = unique_communities[lowest_node_id]\n",
    "        final_graph_partition.extend([(node, community_id) for node in community])\n",
    "    \n",
    "    return np.array(final_graph_partition)"
   ]
  },
  {
   "cell_type": "code",
   "execution_count": null,
   "metadata": {},
   "outputs": [],
   "source": [
    "a = recursiveSpectralDecomposition(nodes_connectivity_list_fb)"
   ]
  },
  {
   "cell_type": "code",
   "execution_count": null,
   "metadata": {},
   "outputs": [],
   "source": [
    "def spectralDepth(edges, depth):\n",
    "    if depth == 0:\n",
    "        return\n",
    "    else:\n",
    "        _, _, graph_partition_fb = spectralDecomp_OneIter(edges)\n",
    "        clusters = np.unique(graph_partition_fb[:,1])\n",
    "        cluster1Nodes = []\n",
    "        cluster2Nodes = []\n",
    "        for row in graph_partition_fb:\n",
    "            if row[1] == clusters[0]:\n",
    "                cluster1Nodes.append(row[0])\n",
    "            else:\n",
    "                cluster2Nodes.append(row[0])\n",
    "        cluster1Edges = [[u, v] for u, v in edges if u in cluster1Nodes and v in cluster1Nodes]\n",
    "        cluster2Edges = [[u, v] for u, v in edges if u in cluster2Nodes and v in cluster2Nodes]\n",
    "        print(len(cluster1Edges))\n",
    "        print(len(cluster2Edges))\n",
    "        depth -= 1\n",
    "        partition1 = spectralDepth(cluster1Edges, depth)\n",
    "        partition2 = spectralDepth(cluster2Edges, depth)\n",
    "        if depth != 0:\n",
    "            graph_partition_fb = np.row_stack((partition1, partition2))\n",
    "        return graph_partition_fb"
   ]
  },
  {
   "cell_type": "code",
   "execution_count": 83,
   "metadata": {},
   "outputs": [],
   "source": [
    "class Spectral_Decompostion:\n",
    "    def __init__(self,edges) -> None:\n",
    "        self.G = nx.Graph()\n",
    "        self.G.add_edges_from(edges)\n",
    "        self.A_norm = nx.to_numpy_array(self.G, dtype=int)/(2*self.G.number_of_edges())\n",
    "        self.degree = np.sum(self.A_norm,axis = 1)\n",
    "        self.community_id = np.zeros(len(self.A_norm)).astype(int)\n",
    "        self.true_node_id = np.array(sorted(list(self.G.nodes)))\n",
    "        \n",
    "    def compute_modularity(self,nodes):\n",
    "        sigma_in = np.sum(self.A_norm[np.ix_(nodes,nodes)])\n",
    "        sigma_total = sum(self.degree[node] for node in nodes)\n",
    "        modularity = sigma_in - sigma_total**2\n",
    "        return modularity\n",
    "\n",
    "    def SpectralDecomposition_OneIter(self,edges,criteria):\n",
    "        # Create a NetworkX graph from the list of edges\n",
    "        G = nx.Graph()  # Create an undirected graph\n",
    "        G.add_edges_from(edges)\n",
    "\n",
    "        # Generate the adjacency matrix from the graph\n",
    "        adjacency_matrix = nx.to_numpy_array(G, dtype=float)\n",
    "\n",
    "        # Calculate degree matrix\n",
    "        degree_matrix = np.diag(np.sum(adjacency_matrix, axis=1))\n",
    "\n",
    "        # Calculate the Laplacian matrix\n",
    "        laplacian_matrix = degree_matrix - adjacency_matrix\n",
    "\n",
    "        # Calculate the 2nd smallest eigencvalue and fiedler vector of the Laplacian matrix\n",
    "        if criteria == 'Min_cut':\n",
    "            _, fiedler_vector = eigh(laplacian_matrix, subset_by_index=[1, 1])\n",
    "        else:\n",
    "            _, fiedler_vector = eigh(laplacian_matrix, degree_matrix, subset_by_index=[1, 1])\n",
    "\n",
    "        # # Determine the graph partition based on the sign of the Fiedler vector elements\n",
    "        # positive_nodes = [true_node_id[node] for node, value in enumerate(fiedler_vector) if value >= 0]\n",
    "        # negative_nodes = [true_node_id[node] for node, value in enumerate(fiedler_vector) if value < 0]\n",
    "        \n",
    "        return fiedler_vector\n",
    "\n",
    "    def stopping_criteria(self,p1,p2):\n",
    "        Q_after = self.compute_modularity(p1) + self.compute_modularity(p2)\n",
    "        Q_before = self.compute_modularity(p1+p2)\n",
    "        print(Q_after,Q_before)\n",
    "        if Q_before > Q_after:\n",
    "            return True\n",
    "        else:\n",
    "            return False\n",
    "    def stopping_criteria2(self,fiedler_vector):\n",
    "        fiedler_vector = np.sort(fiedler_vector)\n",
    "        diff = [fiedler_vector[i+1] - fiedler_vector[i] for i in range(len(fiedler_vector)-1)]\n",
    "        std_dev = np.std(fiedler_vector)\n",
    "        # std_dev = np.std(diff)\n",
    "        threshold = 2 * std_dev\n",
    "        max_diff = np.max(diff)\n",
    "        if max(diff) > threshold:\n",
    "            return False\n",
    "        else:\n",
    "            return True\n",
    "        \n",
    "    def check_stability(self,fiedler_vector):\n",
    "        # Create a histogram of Fiedler vector values\n",
    "        num_bins = 10  # You can adjust the number of bins\n",
    "        hist, bin_edges = np.histogram(fiedler_vector, bins=num_bins)\n",
    "        \n",
    "        # Calculate the ratio between the minimum and maximum values in the histogram bins\n",
    "        min_count = min(hist)\n",
    "        max_count = max(hist)\n",
    "        if max_count == 0:\n",
    "            return False\n",
    "        ratio = min_count / max_count\n",
    "        \n",
    "        # Check if the ratio exceeds the stability threshold (0.06)\n",
    "        return ratio >= 0.01\n",
    "\n",
    "    \n",
    "    def final_modularity(self):\n",
    "        unique_id = np.unique(self.community_id)\n",
    "        Q = 0\n",
    "        for i in unique_id:\n",
    "            C = np.where(self.community_id == i)[0]\n",
    "            Q += self.compute_modularity(C)\n",
    "        return Q\n",
    "\n",
    "    def final_modularity2(self):\n",
    "        unique_id = np.unique(self.community_id)\n",
    "        communities = []\n",
    "        for i in unique_id:\n",
    "            C = set(np.where(self.community_id == i)[0])\n",
    "            communities.append(C)\n",
    "        Q = nx.community.modularity(self.G, communities)\n",
    "        return Q\n",
    "\n",
    "    def recursiveSpectralDecomposition(self,edges):\n",
    "        # Apply spectral decomposition for one iteration\n",
    "        fiedler_vector = self.SpectralDecomposition_OneIter(edges,\"Ncut\")\n",
    "        if self.stopping_criteria2(fiedler_vector):\n",
    "            print(\"Stopped\")\n",
    "            return\n",
    "        pos_idx = np.where(fiedler_vector >= 0)[0]\n",
    "        neg_idx = np.where(fiedler_vector < 0)[0]\n",
    "        \n",
    "        if(len(pos_idx)) > 0:\n",
    "            pos_id = np.min(self.true_node_id[pos_idx])\n",
    "            self.community_id[pos_idx] = pos_id\n",
    "        if(len(neg_idx)) > 0:\n",
    "            neg_id = np.min(self.true_node_id[neg_idx])\n",
    "            self.community_id[neg_idx] = neg_id\n",
    "\n",
    "        # if len(partition1) > 0:\n",
    "        #     self.community_id[partition1] = np.min(partition1).astype(int)\n",
    "        # if len(partition2) > 0:\n",
    "        #     self.community_id[partition2] = np.min(partition2).astype(int)\n",
    "\n",
    "        # p1_s = self.G.subgraph(partition1)\n",
    "        # p2_s = self.G.subgraph(partition2)\n",
    "        partition1 = self.true_node_id[pos_idx]\n",
    "        partition2 = self.true_node_id[neg_idx]\n",
    "        print(len(partition1),len(partition2))\n",
    "        partition1_edges = [(u, v) for u, v in edges if u in partition1 and v in partition1]\n",
    "        partition2_edges = [(u, v) for u, v in edges if u in partition2 and v in partition2]\n",
    "        if len(partition1_edges) > 0:\n",
    "            self.recursiveSpectralDecomposition(partition1_edges)\n",
    "        if len(partition2_edges) > 0:\n",
    "            self.recursiveSpectralDecomposition(partition2_edges)\n",
    "\n",
    "        "
   ]
  },
  {
   "cell_type": "code",
   "execution_count": 84,
   "metadata": {},
   "outputs": [
    {
     "name": "stdout",
     "output_type": "stream",
     "text": [
      "1530 2509\n",
      "1489 3\n",
      "48 0\n",
      "1249 1241\n",
      "26 906\n",
      "108 293\n",
      "49 2\n",
      "107 8\n",
      "14 4\n",
      "115 785\n",
      "36 0\n",
      "301 78\n",
      "146 0\n",
      "44 32\n",
      "22 5\n",
      "8 2\n",
      "2 1\n",
      "Stopped\n",
      "28 3\n"
     ]
    }
   ],
   "source": [
    "S = Spectral_Decompostion(nodes_connectivity_list_fb)\n",
    "S.recursiveSpectralDecomposition(nodes_connectivity_list_fb)"
   ]
  },
  {
   "cell_type": "code",
   "execution_count": 94,
   "metadata": {},
   "outputs": [
    {
     "name": "stdout",
     "output_type": "stream",
     "text": [
      "5881 0\n",
      "5881 0\n"
     ]
    },
    {
     "ename": "KeyboardInterrupt",
     "evalue": "",
     "output_type": "error",
     "traceback": [
      "\u001b[1;31m---------------------------------------------------------------------------\u001b[0m",
      "\u001b[1;31mKeyboardInterrupt\u001b[0m                         Traceback (most recent call last)",
      "Cell \u001b[1;32mIn[94], line 2\u001b[0m\n\u001b[0;32m      1\u001b[0m S \u001b[39m=\u001b[39m Spectral_Decompostion(nodes_connectivity_list_btc)\n\u001b[1;32m----> 2\u001b[0m S\u001b[39m.\u001b[39;49mrecursiveSpectralDecomposition(nodes_connectivity_list_btc)\n",
      "Cell \u001b[1;32mIn[83], line 123\u001b[0m, in \u001b[0;36mSpectral_Decompostion.recursiveSpectralDecomposition\u001b[1;34m(self, edges)\u001b[0m\n\u001b[0;32m    121\u001b[0m partition2_edges \u001b[39m=\u001b[39m [(u, v) \u001b[39mfor\u001b[39;00m u, v \u001b[39min\u001b[39;00m edges \u001b[39mif\u001b[39;00m u \u001b[39min\u001b[39;00m partition2 \u001b[39mand\u001b[39;00m v \u001b[39min\u001b[39;00m partition2]\n\u001b[0;32m    122\u001b[0m \u001b[39mif\u001b[39;00m \u001b[39mlen\u001b[39m(partition1_edges) \u001b[39m>\u001b[39m \u001b[39m0\u001b[39m:\n\u001b[1;32m--> 123\u001b[0m     \u001b[39mself\u001b[39;49m\u001b[39m.\u001b[39;49mrecursiveSpectralDecomposition(partition1_edges)\n\u001b[0;32m    124\u001b[0m \u001b[39mif\u001b[39;00m \u001b[39mlen\u001b[39m(partition2_edges) \u001b[39m>\u001b[39m \u001b[39m0\u001b[39m:\n\u001b[0;32m    125\u001b[0m     \u001b[39mself\u001b[39m\u001b[39m.\u001b[39mrecursiveSpectralDecomposition(partition2_edges)\n",
      "Cell \u001b[1;32mIn[83], line 123\u001b[0m, in \u001b[0;36mSpectral_Decompostion.recursiveSpectralDecomposition\u001b[1;34m(self, edges)\u001b[0m\n\u001b[0;32m    121\u001b[0m partition2_edges \u001b[39m=\u001b[39m [(u, v) \u001b[39mfor\u001b[39;00m u, v \u001b[39min\u001b[39;00m edges \u001b[39mif\u001b[39;00m u \u001b[39min\u001b[39;00m partition2 \u001b[39mand\u001b[39;00m v \u001b[39min\u001b[39;00m partition2]\n\u001b[0;32m    122\u001b[0m \u001b[39mif\u001b[39;00m \u001b[39mlen\u001b[39m(partition1_edges) \u001b[39m>\u001b[39m \u001b[39m0\u001b[39m:\n\u001b[1;32m--> 123\u001b[0m     \u001b[39mself\u001b[39;49m\u001b[39m.\u001b[39;49mrecursiveSpectralDecomposition(partition1_edges)\n\u001b[0;32m    124\u001b[0m \u001b[39mif\u001b[39;00m \u001b[39mlen\u001b[39m(partition2_edges) \u001b[39m>\u001b[39m \u001b[39m0\u001b[39m:\n\u001b[0;32m    125\u001b[0m     \u001b[39mself\u001b[39m\u001b[39m.\u001b[39mrecursiveSpectralDecomposition(partition2_edges)\n",
      "Cell \u001b[1;32mIn[83], line 96\u001b[0m, in \u001b[0;36mSpectral_Decompostion.recursiveSpectralDecomposition\u001b[1;34m(self, edges)\u001b[0m\n\u001b[0;32m     94\u001b[0m \u001b[39mdef\u001b[39;00m \u001b[39mrecursiveSpectralDecomposition\u001b[39m(\u001b[39mself\u001b[39m,edges):\n\u001b[0;32m     95\u001b[0m     \u001b[39m# Apply spectral decomposition for one iteration\u001b[39;00m\n\u001b[1;32m---> 96\u001b[0m     fiedler_vector \u001b[39m=\u001b[39m \u001b[39mself\u001b[39;49m\u001b[39m.\u001b[39;49mSpectralDecomposition_OneIter(edges,\u001b[39m\"\u001b[39;49m\u001b[39mNcut\u001b[39;49m\u001b[39m\"\u001b[39;49m)\n\u001b[0;32m     97\u001b[0m     \u001b[39mif\u001b[39;00m \u001b[39mself\u001b[39m\u001b[39m.\u001b[39mstopping_criteria2(fiedler_vector):\n\u001b[0;32m     98\u001b[0m         \u001b[39mprint\u001b[39m(\u001b[39m\"\u001b[39m\u001b[39mStopped\u001b[39m\u001b[39m\"\u001b[39m)\n",
      "Cell \u001b[1;32mIn[83], line 34\u001b[0m, in \u001b[0;36mSpectral_Decompostion.SpectralDecomposition_OneIter\u001b[1;34m(self, edges, criteria)\u001b[0m\n\u001b[0;32m     32\u001b[0m     _, fiedler_vector \u001b[39m=\u001b[39m eigh(laplacian_matrix, subset_by_index\u001b[39m=\u001b[39m[\u001b[39m1\u001b[39m, \u001b[39m1\u001b[39m])\n\u001b[0;32m     33\u001b[0m \u001b[39melse\u001b[39;00m:\n\u001b[1;32m---> 34\u001b[0m     _, fiedler_vector \u001b[39m=\u001b[39m eigh(laplacian_matrix, degree_matrix, subset_by_index\u001b[39m=\u001b[39;49m[\u001b[39m1\u001b[39;49m, \u001b[39m1\u001b[39;49m])\n\u001b[0;32m     36\u001b[0m \u001b[39m# # Determine the graph partition based on the sign of the Fiedler vector elements\u001b[39;00m\n\u001b[0;32m     37\u001b[0m \u001b[39m# positive_nodes = [true_node_id[node] for node, value in enumerate(fiedler_vector) if value >= 0]\u001b[39;00m\n\u001b[0;32m     38\u001b[0m \u001b[39m# negative_nodes = [true_node_id[node] for node, value in enumerate(fiedler_vector) if value < 0]\u001b[39;00m\n\u001b[0;32m     40\u001b[0m \u001b[39mreturn\u001b[39;00m fiedler_vector\n",
      "File \u001b[1;32mc:\\Users\\srina\\anaconda3\\envs\\DataAnalytics\\lib\\site-packages\\scipy\\linalg\\_decomp.py:576\u001b[0m, in \u001b[0;36meigh\u001b[1;34m(a, b, lower, eigvals_only, overwrite_a, overwrite_b, turbo, eigvals, type, check_finite, subset_by_index, subset_by_value, driver)\u001b[0m\n\u001b[0;32m    572\u001b[0m         lwork_args \u001b[39m=\u001b[39m {\u001b[39m'\u001b[39m\u001b[39mlwork\u001b[39m\u001b[39m'\u001b[39m: lw}\n\u001b[0;32m    574\u001b[0m     drv_args\u001b[39m.\u001b[39mupdate({\u001b[39m'\u001b[39m\u001b[39muplo\u001b[39m\u001b[39m'\u001b[39m: uplo, \u001b[39m'\u001b[39m\u001b[39mjobz\u001b[39m\u001b[39m'\u001b[39m: _job})\n\u001b[1;32m--> 576\u001b[0m     w, v, \u001b[39m*\u001b[39mother_args, info \u001b[39m=\u001b[39m drv(a\u001b[39m=\u001b[39ma1, b\u001b[39m=\u001b[39mb1, \u001b[39m*\u001b[39m\u001b[39m*\u001b[39mdrv_args, \u001b[39m*\u001b[39m\u001b[39m*\u001b[39mlwork_args)\n\u001b[0;32m    578\u001b[0m \u001b[39m# m is always the first extra argument\u001b[39;00m\n\u001b[0;32m    579\u001b[0m w \u001b[39m=\u001b[39m w[:other_args[\u001b[39m0\u001b[39m]] \u001b[39mif\u001b[39;00m subset \u001b[39melse\u001b[39;00m w\n",
      "\u001b[1;31mKeyboardInterrupt\u001b[0m: "
     ]
    }
   ],
   "source": [
    "S = Spectral_Decompostion(nodes_connectivity_list_btc)\n",
    "S.recursiveSpectralDecomposition(nodes_connectivity_list_btc)"
   ]
  },
  {
   "cell_type": "code",
   "execution_count": 81,
   "metadata": {},
   "outputs": [
    {
     "data": {
      "text/plain": [
       "0.17539686049417896"
      ]
     },
     "execution_count": 81,
     "metadata": {},
     "output_type": "execute_result"
    }
   ],
   "source": [
    "S.final_modularity()"
   ]
  },
  {
   "cell_type": "code",
   "execution_count": 76,
   "metadata": {},
   "outputs": [
    {
     "data": {
      "text/plain": [
       "(array([  0,   2,   3,   6,  17, 189, 237, 351]),\n",
       " array([2082,    2,   19,  806,    3,   78,  109,  940], dtype=int64))"
      ]
     },
     "execution_count": 76,
     "metadata": {},
     "output_type": "execute_result"
    }
   ],
   "source": [
    "np.unique(S.community_id,return_counts=True)"
   ]
  },
  {
   "cell_type": "code",
   "execution_count": 57,
   "metadata": {},
   "outputs": [],
   "source": [
    "g1 = nx.Graph()\n",
    "g1.add_edges_from(nodes_connectivity_list_btc)"
   ]
  },
  {
   "cell_type": "code",
   "execution_count": 58,
   "metadata": {},
   "outputs": [
    {
     "data": {
      "text/plain": [
       "19"
      ]
     },
     "execution_count": 58,
     "metadata": {},
     "output_type": "execute_result"
    }
   ],
   "source": [
    "len(nx.community.louvain_communities(g1, seed=42))"
   ]
  },
  {
   "cell_type": "code",
   "execution_count": 30,
   "metadata": {},
   "outputs": [
    {
     "data": {
      "text/plain": [
       "2"
      ]
     },
     "execution_count": 30,
     "metadata": {},
     "output_type": "execute_result"
    }
   ],
   "source": [
    "max([1,2])"
   ]
  },
  {
   "cell_type": "code",
   "execution_count": 42,
   "metadata": {},
   "outputs": [],
   "source": [
    "# def lovain(edges):\n",
    "#     # Create a NetworkX graph from the list of edges\n",
    "#     Graph = nx.Graph()  # Create an undirected graph\n",
    "#     Graph.add_edges_from(edges)\n",
    "#     communities = np.array(Graph.nodes)\n",
    "#     m = Graph.number_of_edges()\n",
    "\n",
    "#     while True:\n",
    "#         for i in range(len(communities)):\n",
    "#             count = 0\n",
    "#             neighbours = np.array(list(Graph.neighbors(i)))\n",
    "#             neighbour_communities = np.unique(communities[neighbours])\n",
    "\n",
    "#             community_i_nodes = np.where(communities == i)         \n",
    "#             subgraph_i = Graph.subgraph(community_i_nodes)\n",
    "#             sigma_in = 2*subgraph_i.number_of_edges()\n",
    "#             sigma_total = sum(Graph.degree(node) for node in community_i_nodes)\n",
    "#             k_i_in = sum(1 for neighbor in Graph.neighbors(i) if neighbor in subgraph_i)\n",
    "#             k_i = Graph.degree(i)\n",
    "#             Q_after = (sigma_in/2*m - (sigma_total/2*m)**2) - (k_i/2*m)**2\n",
    "#             Q_before = (sigma_in + k_i_in)/(2*m) - ((sigma_total + k_i)/(2*m))\n",
    "#             Q_demerge = Q_after - Q_before\n",
    "\n",
    "#             Q_max = -np.inf\n",
    "#             best_community = i\n",
    "\n",
    "#             for j in neighbour_communities:\n",
    "#                 community_j_nodes = np.where(communities == j)         \n",
    "#                 subgraph_j = Graph.subgraph(community_j_nodes)\n",
    "#                 sigma_in = 2*subgraph_j.number_of_edges()\n",
    "#                 sigma_total = sum(Graph.degree(node) for node in community_j_nodes)\n",
    "\n",
    "#                 k_i_in = sum(1 for neighbor in Graph.neighbors(i) if neighbor in subgraph_j)\n",
    "#                 Q_after = (sigma_in + k_i_in)/(2*m) - ((sigma_total + k_i)/(2*m))\n",
    "#                 Q_before = (sigma_in/2*m - (sigma_total/2*m)**2) - (k_i/2*m)**2\n",
    "#                 Q_merge = Q_after - Q_before\n",
    "\n",
    "#                 if Q_merge > Q_max:\n",
    "#                     Q_max = Q_merge\n",
    "#                     best_community = j\n",
    "            \n",
    "#             if Q_demerge + Q_max > 0:\n",
    "#                 communities[i] = best_community\n",
    "#                 count += 1\n",
    "#         if not count:\n",
    "#             break\n",
    "#     return communities\n",
    "            "
   ]
  },
  {
   "cell_type": "code",
   "execution_count": 11,
   "metadata": {},
   "outputs": [],
   "source": [
    "# def louvain(edges, max_iterations=10):\n",
    "#     # Create a NetworkX graph from the list of edges\n",
    "#     Graph = nx.Graph()  # Create an undirected graph\n",
    "#     Graph.add_edges_from(edges)\n",
    "#     communities = np.arange(Graph.number_of_nodes())  # Initialize each node in its own community\n",
    "#     m = Graph.number_of_edges()\n",
    "    \n",
    "#     # Precompute degree sums for all nodes\n",
    "#     degree_sums = dict(Graph.degree())\n",
    "\n",
    "#     while True:\n",
    "#         count = 0\n",
    "#         for i in range(len(communities)):\n",
    "#             neighbor_communities = set(communities[neighbor] for neighbor in Graph.neighbors(i))\n",
    "#             community_i = communities[i]\n",
    "#             subgraph_i = Graph.subgraph(node for node in communities if communities[node] == community_i)\n",
    "#             sigma_in = 2 * subgraph_i.number_of_edges()\n",
    "#             sigma_total = degree_sums[i]\n",
    "#             k_i_in = sum(1 for neighbor in Graph.neighbors(i) if communities[neighbor] == community_i)\n",
    "#             k_i = degree_sums[i]\n",
    "            \n",
    "#             Q_after = (sigma_in / (2 * m) - (sigma_total / (2 * m)) ** 2) - (k_i / (2 * m)) ** 2\n",
    "#             Q_before = (sigma_in + k_i_in) / (2 * m) - ((sigma_total + k_i) / (2 * m))\n",
    "#             Q_demerge = Q_after - Q_before\n",
    "\n",
    "#             Q_max = -np.inf\n",
    "#             best_community = community_i\n",
    "\n",
    "#             for j in neighbor_communities:\n",
    "#                 community_j_nodes = np.where(communities == j)[0]\n",
    "#                 subgraph_j = Graph.subgraph(list(community_j_nodes))\n",
    "#                 sigma_in = 2 * subgraph_j.number_of_edges()\n",
    "#                 sigma_total = sum(degree_sums[node] for node in community_j_nodes)\n",
    "#                 k_i_in = sum(1 for neighbor in Graph.neighbors(i) if communities[neighbor] == j)\n",
    "\n",
    "#                 Q_after = (sigma_in + k_i_in) / (2 * m) - ((sigma_total + k_i) / (2 * m))\n",
    "#                 Q_before = (sigma_in / (2 * m) - (sigma_total / (2 * m)) ** 2) - (k_i / (2 * m)) ** 2\n",
    "#                 Q_merge = Q_after - Q_before\n",
    "\n",
    "#                 if Q_merge > Q_max:\n",
    "#                     Q_max = Q_merge\n",
    "#                     best_community = j\n",
    "\n",
    "#             if Q_demerge + Q_max > 0:\n",
    "#                 communities[i] = best_community\n",
    "#                 count += 1\n",
    "#         print(count)\n",
    "#         if count == 0:\n",
    "#             break\n",
    "\n",
    "#     return communities"
   ]
  },
  {
   "cell_type": "code",
   "execution_count": 17,
   "metadata": {},
   "outputs": [],
   "source": [
    "# def louvain(edges):\n",
    "\n",
    "#     graph = nx.Graph()  # Create an undirected graph\n",
    "#     graph.add_edges_from(edges)\n",
    "#     # Initialize each node in its own community\n",
    "#     communities = {node: idx for idx, node in enumerate(graph.nodes())}\n",
    "#     # Precompute degree sums for all nodes\n",
    "#     degree_sums = dict(graph.degree())\n",
    "#     m = graph.number_of_edges() \n",
    "    \n",
    "#     def calculate_modularity():\n",
    "#         # Implement the modularity calculation here\n",
    "#         pass\n",
    "\n",
    "#     def calculate_merge(node, target_community):\n",
    "#         current_community = communities[node]\n",
    "\n",
    "#         # Calculate the sum of degrees of nodes in the current community\n",
    "#         sigma_total_current = sum(degree_sums[neighbor] for neighbor in graph.nodes() if communities[neighbor] == current_community)\n",
    "\n",
    "#         # Calculate sigma_in for the current community\n",
    "#         subgraph_current = graph.subgraph(node for node in communities if communities[node] == current_community)\n",
    "#         sigma_in_current = 2 * subgraph_current.number_of_edges()\n",
    "\n",
    "#         # Calculate the number of edges between the node and the target community\n",
    "#         k_i_in = sum(1 for neighbor in graph.neighbors(node) if communities[neighbor] == target_community)\n",
    "\n",
    "#         # Calculate the sum of degrees of nodes in the target community\n",
    "#         sigma_total_target = sum(degree_sums[neighbor] for neighbor in graph.nodes() if communities[neighbor] == target_community)\n",
    "\n",
    "#         # Calculate sigma_in for the target community\n",
    "#         subgraph_target = graph.subgraph(node for node in communities if communities[node] == target_community)\n",
    "#         sigma_in_target = 2 * subgraph_target.number_of_edges()\n",
    "\n",
    "#         # Calculate the modularity change for the merge operation\n",
    "#         Q_after = (sigma_in_current + sigma_in_target) / (2 * m) - ((sigma_total_current + sigma_total_target) / (2 * m))\n",
    "#         Q_before = (sigma_in_current / (2 * m) - (sigma_total_current / (2 * m)) ** 2) + (sigma_in_target / (2 * m) - (sigma_total_target / (2 * m)) ** 2)\n",
    "#         Q_merge = Q_after - Q_before\n",
    "\n",
    "#         return Q_merge\n",
    "\n",
    "\n",
    "\n",
    "\n",
    "#     def calculate_demerge(node):\n",
    "#         current_community = communities[node]\n",
    "#         k_i = degree_sums[node]\n",
    "\n",
    "#         # Calculate the number of edges between the node and the current community\n",
    "#         k_i_in = sum(1 for neighbor in graph.neighbors(node) if communities[neighbor] == current_community)\n",
    "\n",
    "#         # Calculate the sum of degrees of nodes in the current community\n",
    "#         sigma_total = sum(degree_sums[neighbor] for neighbor in graph.nodes() if communities[neighbor] == current_community)\n",
    "\n",
    "#         # Calculate sigma_in for the current community\n",
    "#         subgraph_current = graph.subgraph(node for node in communities if communities[node] == current_community)\n",
    "#         sigma_in = 2 * subgraph_current.number_of_edges()\n",
    "\n",
    "#         # Calculate the modularity change for demerger\n",
    "#         Q_after = (sigma_in - k_i_in) / (2 * m) - ((sigma_total - k_i) / (2 * m))\n",
    "#         Q_before = (sigma_in / (2 * m) - (sigma_total / (2 * m)) ** 2) - (k_i / (2 * m)) ** 2\n",
    "#         Q_demerge = Q_after - Q_before\n",
    "\n",
    "#         return Q_demerge\n",
    "\n",
    "#     improvement = True\n",
    "#     while improvement:\n",
    "#         improvement = False\n",
    "#         for node in graph.nodes():\n",
    "#             current_community = communities[node]\n",
    "#             neighbors = list(graph.neighbors(node))\n",
    "\n",
    "#             # Calculate modularity gain for moving the node to each neighboring community\n",
    "#             best_community = current_community\n",
    "#             best_gain = 0.0\n",
    "#             demerge = calculate_demerge(node)\n",
    "#             for neighbor in neighbors:\n",
    "#                 neighbor_community = communities[neighbor]  # Get the community of the neighbor\n",
    "#                 if neighbor_community != current_community:\n",
    "#                     merge = calculate_merge(node, neighbor_community)\n",
    "#                     gain = demerge + merge\n",
    "#                     if  gain > best_gain:\n",
    "#                         best_gain = gain\n",
    "#                         best_community = neighbor_community\n",
    "\n",
    "#             # If the best move increases modularity, update the community assignment\n",
    "#             if best_gain > 0 and best_community != current_community:\n",
    "#                 communities[node] = best_community\n",
    "#                 improvement = True\n",
    "            \n",
    "#         # Count the number of unique communities\n",
    "#         unique_communities = len(set(communities.values()))\n",
    "#         print(\"Number of communities:\", unique_communities)\n",
    "\n",
    "\n",
    "#     # Implement community aggregation and further iterations here\n",
    "\n",
    "#     return communities"
   ]
  },
  {
   "cell_type": "code",
   "execution_count": 18,
   "metadata": {},
   "outputs": [
    {
     "name": "stdout",
     "output_type": "stream",
     "text": [
      "Number of communities: 4039\n"
     ]
    }
   ],
   "source": [
    "a = louvain(nodes_connectivity_list_fb)"
   ]
  },
  {
   "cell_type": "code",
   "execution_count": 74,
   "metadata": {},
   "outputs": [],
   "source": [
    "# class Louvain:\n",
    "#     def __init__(self,edges) -> None:\n",
    "#         self.G = nx.Graph()\n",
    "#         self.G.add_edges_from(edges)\n",
    "#         self.n = self.G.number_of_nodes()\n",
    "#         self.m = self.G.number_of_edges()\n",
    "#         self.A = nx.to_numpy_array(self.G, dtype=int)\n",
    "#         self.degree = dict(self.G.degree())\n",
    "#         self.compute_neighbours()\n",
    "#         self.communities = np.array(self.G.nodes)\n",
    "#         print(self.communities)\n",
    "        \n",
    "    \n",
    "#     def compute_neighbours(self):\n",
    "#         self.neighbours = []\n",
    "#         for i in range(self.n):\n",
    "#             self.neighbours.append(list(self.G.neighbors(i)))\n",
    "    \n",
    "#     def compute_Q_merge(self,i,C):\n",
    "#         communityC_nodes = np.where(self.communities == C)[0]\n",
    "#         sigma_in = np.sum(self.A[np.ix_(communityC_nodes,communityC_nodes)])\n",
    "#         sigma_total =  sum(self.G.degree(node) for node in communityC_nodes)\n",
    "#         k_i_in = 2*np.sum(self.A[np.ix_([i],communityC_nodes)])\n",
    "#         k_i = self.G.degree(i)\n",
    "#         Q_after = (sigma_in + k_i_in)/(2*self.m) - ((sigma_total + k_i)/(2*self.m))**2\n",
    "#         Q_before = sigma_in/(2*self.m) - (sigma_total/(2*self.m))**2 - (k_i/(2*self.m))**2\n",
    "#         return Q_after - Q_before\n",
    "\n",
    "#     def compute_demerge(self,i):\n",
    "#         C = self.communities[i]\n",
    "#         communityC_nodes = np.where(self.communities == C)[0]\n",
    "#         sigma_in = np.sum(self.A[np.ix_(communityC_nodes,communityC_nodes)])\n",
    "#         sigma_total =  sum(self.G.degree(node) for node in communityC_nodes)\n",
    "#         k_i_in = 2*np.sum(self.A[np.ix_([i],communityC_nodes)])\n",
    "#         k_i = self.G.degree(i)\n",
    "#         Q_after = (sigma_in - k_i_in)/(2*self.m) - ((sigma_total - k_i)/(2*self.m))**2 - (k_i/(2*self.m))**2\n",
    "#         Q_before = sigma_in/(2*self.m) - (sigma_total/(2*self.m))**2\n",
    "#         return Q_after - Q_before \n",
    "    \n",
    "#     def phase1(self):\n",
    "#         arr = np.arange(self.n)\n",
    "#         while True:\n",
    "#             count = 0\n",
    "#             np.random.shuffle(np.arange(self.n))\n",
    "#             for i in arr:\n",
    "#                 neighbour_communities = np.unique(self.communities[self.neighbours[i]])\n",
    "#                 Q_demerge = self.compute_demerge(i)\n",
    "#                 Q_max = 0\n",
    "#                 best_community = i\n",
    "#                 for j in neighbour_communities:\n",
    "#                     if j == self.communities[i]:\n",
    "#                         continue\n",
    "#                     Q_merge = self.compute_Q_merge(i,j)\n",
    "#                     delta_Q = Q_demerge + Q_merge\n",
    "#                     if delta_Q > Q_max:\n",
    "#                         Q_max = delta_Q\n",
    "#                         best_community = j\n",
    "#                 if Q_max > 0 and best_community != self.communities[i]:\n",
    "#                     self.communities[i] = best_community\n",
    "#                     count += 1\n",
    "#             print(count,len(np.unique(self.communities)))\n",
    "#             if count == 0:\n",
    "#                 break\n",
    "\n",
    "        "
   ]
  },
  {
   "cell_type": "code",
   "execution_count": 119,
   "metadata": {},
   "outputs": [],
   "source": [
    "# np.random.seed(42)\n",
    "# class Louvain:\n",
    "#     def __init__(self,edges) -> None:\n",
    "#         self.G = nx.Graph()\n",
    "#         self.G.add_edges_from(edges)\n",
    "#         self.n = self.G.number_of_nodes()\n",
    "#         self.A_norm = nx.to_numpy_array(self.G, dtype=int)/(2*self.G.number_of_edges())\n",
    "#         self.degree = np.sum(self.A_norm,axis = 1)\n",
    "#         self.compute_neighbours()\n",
    "#         self.communities = dict(np.column_stack([np.array(self.G.nodes),np.array(self.G.nodes)]))\n",
    "\n",
    "#     def compute_neighbours(self):\n",
    "#         self.neighbours = []\n",
    "#         for i in self.G.nodes:\n",
    "#             #self.neighbours.append(np.where(self.A_norm[i]!=0)[0])\n",
    "#             self.neighbours.append(list(self.G.neighbors(i)))\n",
    "\n",
    "#     def compute_Q_merge(self,i,C):\n",
    "#         communityC_nodes = np.where(self.communities == C)[0]\n",
    "#         sigma_total = sum(self.degree[node] for node in communityC_nodes)\n",
    "#         k_i_in = 2*np.sum(self.A_norm[i, communityC_nodes])\n",
    "#         k_i = self.degree[i]\n",
    "#         Q_merge = k_i_in - 2*sigma_total*k_i\n",
    "#         return Q_merge\n",
    "\n",
    "#     def compute_demerge(self,i):\n",
    "#         C = self.communities[i]\n",
    "#         communityC_nodes = np.where(self.communities == C)[0]\n",
    "#         sigma_total = sum(self.degree[node] for node in communityC_nodes)\n",
    "#         k_i_out = 2*np.sum(self.A_norm[i, communityC_nodes])\n",
    "#         k_i = self.degree[i]\n",
    "#         Q_demerge = 2*k_i*sigma_total - 2*k_i**2 - k_i_out\n",
    "#         return Q_demerge\n",
    "\n",
    "#     def compute_modularity(self):\n",
    "#         community_id = np.unique(self.communities)\n",
    "#         Q = 0\n",
    "#         for C in community_id:\n",
    "#             communityC_nodes = np.where(self.communities == C)[0]\n",
    "#             sigma_total = sum(self.degree[node] for node in communityC_nodes)\n",
    "#             sigma_in = np.sum(self.A_norm[np.ix_(communityC_nodes,communityC_nodes)])\n",
    "#             Q += sigma_in - sigma_total**2\n",
    "#         return Q\n",
    "    \n",
    "#     def final_modularity2(self):\n",
    "#         unique_id = np.unique(self.communities)\n",
    "#         communities = []\n",
    "#         for i in unique_id:\n",
    "#             C = set(np.where(self.communities == i)[0])\n",
    "#             communities.append(C)\n",
    "#         Q = nx.community.modularity(self.G, communities)\n",
    "#         return Q\n",
    "\n",
    "#     def phase1(self):\n",
    "#         while True:\n",
    "#             count = 0\n",
    "#             for i in self.G.nodes:\n",
    "#                 # idx = np.where(np.isin(self.communities[:,0], self.neighbours[i]))[0]\n",
    "#                 neighbour_communities = [self.communities[key] for key in self.neighbours[i] if key in self.communities]\n",
    "#                 Q_demerge = self.compute_demerge(i)\n",
    "#                 Q_max = 0\n",
    "#                 best_community = self.communities[i]\n",
    "#                 for j in neighbour_communities:\n",
    "#                     if j == self.communities[i]:\n",
    "#                         continue\n",
    "#                     Q_merge = self.compute_Q_merge(i,j)\n",
    "#                     delta_Q = Q_demerge + Q_merge\n",
    "#                     if delta_Q > Q_max:\n",
    "#                         Q_max = delta_Q\n",
    "#                         best_community = j\n",
    "#                 #print(\"Iter: \",iteration, \" node_i: \",i,\" merging_com: \", j,\" Q_demerge: \",Q_demerge, \"Q_merge: \",Q_merge, \" Q: \",delta_Q)\n",
    "#                 if Q_max > 0 and best_community != self.communities[i]:\n",
    "#                     #print(\"Node: \",i,\" is changed from \",self.communities[i],\" to \",best_community)\n",
    "#                     self.communities[i] = best_community\n",
    "#                     count += 1\n",
    "#             print(count,len(np.unique(self.communities)),self.compute_modularity())\n",
    "#             if count == 0:\n",
    "#                 break"
   ]
  },
  {
   "cell_type": "code",
   "execution_count": 17,
   "metadata": {},
   "outputs": [],
   "source": [
    "class Louvain:\n",
    "\n",
    "    def __init__(self,edges) -> None:\n",
    "\n",
    "        self.G = nx.Graph()\n",
    "        self.G.add_edges_from(edges)\n",
    "        self.n = self.G.number_of_nodes()\n",
    "        self.change_node_id()\n",
    "        self.A_norm = nx.to_numpy_array(self.G, dtype=int)/(2*self.G.number_of_edges())\n",
    "        self.degree = np.sum(self.A_norm,axis = 1)\n",
    "        self.compute_neighbours()\n",
    "        self.communities = np.arange(self.n)\n",
    "\n",
    "    def change_node_id(self):\n",
    "        mapping = {}\n",
    "        self.nodes = list(self.G.nodes)\n",
    "        for i in range(self.n):\n",
    "            mapping[self.nodes[i]] = i\n",
    "        self.G = nx.relabel_nodes(self.G, mapping)\n",
    "\n",
    "    def compute_neighbours(self):\n",
    "        self.neighbours = []\n",
    "        for i in range(self.n):\n",
    "            self.neighbours.append(np.where(self.A_norm[i]!=0)[0])\n",
    "\n",
    "    def compute_Q_merge(self,i,C):\n",
    "        communityC_nodes = np.where(self.communities == C)[0]\n",
    "        sigma_total = sum(self.degree[node] for node in communityC_nodes)\n",
    "        k_i_in = 2*np.sum(self.A_norm[i, communityC_nodes])\n",
    "        k_i = self.degree[i]\n",
    "        Q_merge = k_i_in - 2*sigma_total*k_i\n",
    "        return Q_merge\n",
    "\n",
    "    def compute_demerge(self,i):\n",
    "        C = self.communities[i]\n",
    "        communityC_nodes = np.where(self.communities == C)[0]\n",
    "        sigma_total = sum(self.degree[node] for node in communityC_nodes)\n",
    "        k_i_out = 2*np.sum(self.A_norm[i, communityC_nodes])\n",
    "        k_i = self.degree[i]\n",
    "        Q_demerge = 2*k_i*sigma_total - 2*k_i**2 - k_i_out\n",
    "        return Q_demerge\n",
    "\n",
    "    def compute_modularity(self):\n",
    "        community_id = np.unique(self.communities)\n",
    "        Q = 0\n",
    "        for C in community_id:\n",
    "            communityC_nodes = np.where(self.communities == C)[0]\n",
    "            sigma_total = sum(self.degree[node] for node in communityC_nodes)\n",
    "            sigma_in = np.sum(self.A_norm[np.ix_(communityC_nodes,communityC_nodes)])\n",
    "            Q += sigma_in - sigma_total**2\n",
    "        return Q\n",
    "\n",
    "    def phase1(self):\n",
    "        while True:\n",
    "            count = 0\n",
    "            for i in range(self.n):\n",
    "                neighbour_communities = np.unique(self.communities[self.neighbours[i]])\n",
    "                Q_demerge = self.compute_demerge(i)\n",
    "                Q_max = 0\n",
    "                best_community = self.communities[i]\n",
    "                for j in neighbour_communities:\n",
    "                    if j == self.communities[i]:\n",
    "                        continue\n",
    "                    Q_merge = self.compute_Q_merge(i,j)\n",
    "                    delta_Q = Q_demerge + Q_merge\n",
    "                    if delta_Q > Q_max:\n",
    "                        Q_max = delta_Q\n",
    "                        best_community = j\n",
    "\n",
    "                if Q_max > 0 and best_community != self.communities[i]:\n",
    "                    self.communities[i] = best_community\n",
    "                    count += 1\n",
    "            if count == 0:\n",
    "                break"
   ]
  },
  {
   "cell_type": "code",
   "execution_count": 18,
   "metadata": {},
   "outputs": [],
   "source": [
    "def louvain_one_iter(edges):\n",
    "    L =  Louvain(edges)\n",
    "    L.phase1()\n",
    "    node_id = np.array(L.nodes).astype(int)\n",
    "    community_id = L.communities\n",
    "    graph_partition = np.column_stack([node_id,community_id])\n",
    "    print(\"Number of Communities formed: \", len(np.unique(L.communities)))\n",
    "    print(\"Final Modularity: \", L.compute_modularity())\n",
    "    return graph_partition"
   ]
  },
  {
   "cell_type": "code",
   "execution_count": 19,
   "metadata": {},
   "outputs": [
    {
     "name": "stdout",
     "output_type": "stream",
     "text": [
      "Number of Communities formed:  89\n",
      "Final Modularity:  0.8180352488986659\n"
     ]
    }
   ],
   "source": [
    "graph_partition_louvain_fb = louvain_one_iter(nodes_connectivity_list_fb)"
   ]
  },
  {
   "cell_type": "code",
   "execution_count": 23,
   "metadata": {},
   "outputs": [
    {
     "name": "stdout",
     "output_type": "stream",
     "text": [
      "Number of Communities formed:  447\n",
      "Final Modularity:  0.4303464870727471\n"
     ]
    }
   ],
   "source": [
    "graph_partition_louvain_btc = louvain_one_iter(nodes_connectivity_list_btc)"
   ]
  },
  {
   "cell_type": "code",
   "execution_count": 22,
   "metadata": {},
   "outputs": [
    {
     "data": {
      "image/png": "[encoded data removed]",
      "text/plain": [
       "<Figure size 640x480 with 1 Axes>"
      ]
     },
     "metadata": {},
     "output_type": "display_data"
    }
   ],
   "source": [
    "draw_graph(graph_partition_louvain_fb,nodes_connectivity_list_fb)"
   ]
  },
  {
   "cell_type": "code",
   "execution_count": 24,
   "metadata": {},
   "outputs": [
    {
     "data": {
      "image/png": "[encoded data removed]",
      "text/plain": [
       "<Figure size 640x480 with 1 Axes>"
      ]
     },
     "metadata": {},
     "output_type": "display_data"
    }
   ],
   "source": [
    "draw_graph(graph_partition_louvain_btc,nodes_connectivity_list_btc)"
   ]
  },
  {
   "cell_type": "code",
   "execution_count": 14,
   "metadata": {},
   "outputs": [
    {
     "data": {
      "text/plain": [
       "447"
      ]
     },
     "execution_count": 14,
     "metadata": {},
     "output_type": "execute_result"
    }
   ],
   "source": [
    "len(np.unique(graph_partition_louvain_fb[:,1]))"
   ]
  },
  {
   "cell_type": "code",
   "execution_count": 168,
   "metadata": {},
   "outputs": [
    {
     "name": "stdout",
     "output_type": "stream",
     "text": [
      "3808 526 0.6367821450792767\n",
      "979 142 0.7940242539428678\n",
      "186 109 0.8072953616427275\n",
      "69 95 0.8107637722909163\n",
      "45 93 0.8125999141162368\n",
      "52 92 0.8171228188213575\n",
      "13 89 0.8180341511802441\n",
      "1 89 0.8180352488986659\n",
      "0 89 0.8180352488986659\n"
     ]
    }
   ],
   "source": [
    "L = Louvain(nodes_connectivity_list_fb)\n",
    "L.phase1()"
   ]
  },
  {
   "cell_type": "code",
   "execution_count": 137,
   "metadata": {},
   "outputs": [
    {
     "data": {
      "text/plain": [
       "array([ True,  True,  True, ...,  True,  True,  True])"
      ]
     },
     "execution_count": 137,
     "metadata": {},
     "output_type": "execute_result"
    }
   ],
   "source": [
    "np.array(L.G.nodes) == np.arange(4039)"
   ]
  },
  {
   "cell_type": "code",
   "execution_count": 166,
   "metadata": {},
   "outputs": [
    {
     "name": "stdout",
     "output_type": "stream",
     "text": [
      "4643 1472 0.23639838272398148\n",
      "586 1233 0.2692378552536174\n",
      "383 1104 0.285773236785218\n",
      "283 1038 0.29868239508542194\n",
      "322 982 0.3123022552481584\n",
      "388 911 0.33012738278318005\n",
      "465 820 0.35239688799582397\n",
      "403 719 0.3722990016861953\n",
      "260 661 0.38508884784850933\n",
      "133 628 0.3911010226529519\n",
      "68 607 0.3940735729332184\n",
      "34 597 0.39550228766860224\n",
      "55 590 0.3975461047421966\n",
      "13 587 0.39789785808051165\n",
      "5 585 0.3980568601065167\n",
      "0 585 0.3980568601065167\n"
     ]
    }
   ],
   "source": [
    "L = Louvain(nodes_connectivity_list_btc)\n",
    "L.phase1()"
   ]
  },
  {
   "cell_type": "code",
   "execution_count": 160,
   "metadata": {},
   "outputs": [
    {
     "data": {
      "text/plain": [
       "5880"
      ]
     },
     "execution_count": 160,
     "metadata": {},
     "output_type": "execute_result"
    }
   ],
   "source": [
    "max(list(L.G.nodes))"
   ]
  },
  {
   "cell_type": "code",
   "execution_count": 109,
   "metadata": {},
   "outputs": [],
   "source": [
    "# Create a NetworkX graph from the list of edges\n",
    "Graph = nx.Graph()  # Create an undirected graph\n",
    "Graph.add_edges_from(nodes_connectivity_list_btc)"
   ]
  },
  {
   "cell_type": "code",
   "execution_count": 126,
   "metadata": {},
   "outputs": [
    {
     "data": {
      "text/plain": [
       "array([0, 2], dtype=int64)"
      ]
     },
     "execution_count": 126,
     "metadata": {},
     "output_type": "execute_result"
    }
   ],
   "source": [
    "a = np.array([1,2,3,4,5,6])\n",
    "mask = np.where(np.isin(a, [1,3]))[0]\n",
    "mask\n"
   ]
  },
  {
   "cell_type": "code",
   "execution_count": 39,
   "metadata": {},
   "outputs": [
    {
     "data": {
      "text/plain": [
       "array([  1,   2,   3,   4,   5,   6,   7,   8,   9,  10,  11,  12,  13,\n",
       "        14,  15,  16,  17,  18,  19,  20,  21,  22,  23,  24,  25,  26,\n",
       "        27,  28,  29,  30,  31,  32,  33,  34,  35,  36,  37,  38,  39,\n",
       "        40,  41,  42,  43,  44,  45,  46,  47,  48,  49,  50,  51,  52,\n",
       "        53,  54,  55,  56,  57,  58,  59,  60,  61,  62,  63,  64,  65,\n",
       "        66,  67,  68,  69,  70,  71,  72,  73,  74,  75,  76,  77,  78,\n",
       "        79,  80,  81,  82,  83,  84,  85,  86,  87,  88,  89,  90,  91,\n",
       "        92,  93,  94,  95,  96,  97,  98,  99, 100, 101, 102, 103, 104,\n",
       "       105, 106, 107, 108, 109, 110, 111, 112, 113, 114, 115, 116, 117,\n",
       "       118, 119, 120, 121, 122, 123, 124, 125, 126, 127, 128, 129, 130,\n",
       "       131, 132, 133, 134, 135, 136, 137, 138, 139, 140, 141, 142, 143,\n",
       "       144, 145, 146, 147, 148, 149, 150, 151, 152, 153, 154, 155, 156,\n",
       "       157, 158, 159, 160, 161, 162, 163, 164, 165, 166, 167, 168, 169,\n",
       "       170, 171, 172, 173, 174, 175, 176, 177, 178, 179, 180, 181, 182,\n",
       "       183, 184, 185, 186, 187, 188, 189, 190, 191, 192, 193, 194, 195,\n",
       "       196, 197, 198, 199, 200, 201, 202, 203, 204, 205, 206, 207, 208,\n",
       "       209, 210, 211, 212, 213, 214, 215, 216, 217, 218, 219, 220, 221,\n",
       "       222, 223, 224, 225, 226, 227, 228, 229, 230, 231, 232, 233, 234,\n",
       "       235, 236, 237, 238, 239, 240, 241, 242, 243, 244, 245, 246, 247,\n",
       "       248, 249, 250, 251, 252, 253, 254, 255, 256, 257, 258, 259, 260,\n",
       "       261, 262, 263, 264, 265, 266, 267, 268, 269, 270, 271, 272, 273,\n",
       "       274, 275, 276, 277, 278, 279, 280, 281, 282, 283, 284, 285, 286,\n",
       "       287, 288, 289, 290, 291, 292, 293, 294, 295, 296, 297, 298, 299,\n",
       "       300, 301, 302, 303, 304, 305, 306, 307, 308, 309, 310, 311, 312,\n",
       "       313, 314, 315, 316, 317, 318, 319, 320, 321, 322, 323, 324, 325,\n",
       "       326, 327, 328, 329, 330, 331, 332, 333, 334, 335, 336, 337, 338,\n",
       "       339, 340, 341, 342, 343, 344, 345, 346, 347])"
      ]
     },
     "execution_count": 39,
     "metadata": {},
     "output_type": "execute_result"
    }
   ],
   "source": [
    "np.array(list(Graph.neighbors(0)))\n"
   ]
  },
  {
   "cell_type": "code",
   "execution_count": 93,
   "metadata": {},
   "outputs": [],
   "source": [
    "d = {}\n",
    "d[0] = 1"
   ]
  },
  {
   "cell_type": "code",
   "execution_count": 95,
   "metadata": {},
   "outputs": [
    {
     "data": {
      "text/plain": [
       "True"
      ]
     },
     "execution_count": 95,
     "metadata": {},
     "output_type": "execute_result"
    }
   ],
   "source": [
    "d.get(0,True)"
   ]
  },
  {
   "cell_type": "code",
   "execution_count": null,
   "metadata": {},
   "outputs": [],
   "source": []
  }
 ],
 "metadata": {
  "kernelspec": {
   "display_name": "DataAnalytics",
   "language": "python",
   "name": "python3"
  },
  "language_info": {
   "codemirror_mode": {
    "name": "ipython",
    "version": 3
   },
   "file_extension": ".py",
   "mimetype": "text/x-python",
   "name": "python",
   "nbconvert_exporter": "python",
   "pygments_lexer": "ipython3",
   "version": "3.9.13"
  },
  "orig_nbformat": 4
 },
 "nbformat": 4,
 "nbformat_minor": 2
}
